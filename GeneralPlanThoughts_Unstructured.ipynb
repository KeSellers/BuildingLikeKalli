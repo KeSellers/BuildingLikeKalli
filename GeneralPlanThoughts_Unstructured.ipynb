{
  "nbformat": 4,
  "nbformat_minor": 0,
  "metadata": {
    "colab": {
      "provenance": [],
      "collapsed_sections": [],
      "authorship_tag": "ABX9TyMFUNOcb+rlgv894vye4Qal",
      "include_colab_link": true
    },
    "kernelspec": {
      "name": "python3",
      "display_name": "Python 3"
    },
    "language_info": {
      "name": "python"
    }
  },
  "cells": [
    {
      "cell_type": "markdown",
      "metadata": {
        "id": "view-in-github",
        "colab_type": "text"
      },
      "source": [
        "<a href=\"https://colab.research.google.com/github/KeSellers/BuildingLikeKalli/blob/main/GeneralPlanThoughts_Unstructured.ipynb\" target=\"_parent\"><img src=\"https://colab.research.google.com/assets/colab-badge.svg\" alt=\"Open In Colab\"/></a>"
      ]
    },
    {
      "cell_type": "markdown",
      "source": [
        "# Get VGG-19"
      ],
      "metadata": {
        "id": "nja48MGyTBqq"
      }
    },
    {
      "cell_type": "markdown",
      "source": [
        "<h1>Thoughts</h1>\n",
        "<ul>\n",
        "  <li> algorithm to detect, fence, balcony etc so the algorithm only combines features in the relevant area</li>\n",
        "  <li>\n",
        "      first of all i have to get testdata for recognizing the relevant part\n",
        "  </li>\n",
        "  <li>\n",
        "      due to lack of data i should pretrain with a random metal blacksmith design\n",
        "  </li>\n",
        "\n",
        "</ul>"
      ],
      "metadata": {
        "id": "kufiSjIGVUcQ"
      }
    },
    {
      "cell_type": "code",
      "source": [
        "import tensorflow as tf"
      ],
      "metadata": {
        "id": "SFyvMh6lTIWN"
      },
      "execution_count": 1,
      "outputs": []
    },
    {
      "cell_type": "markdown",
      "source": [
        "<h2> Illustration of the VGG-19 Arcitecture</h2>\n",
        "<a href=\"https://www.researchgate.net/figure/llustration-of-the-network-architecture-of-VGG-19-model-conv-means-convolution-FC-means_fig2_325137356\"><img src=\"https://www.researchgate.net/profile/Clifford-Yang/publication/325137356/figure/fig2/AS:670371271413777@1536840374533/llustration-of-the-network-architecture-of-VGG-19-model-conv-means-convolution-FC-means.jpg\" alt=\"Illustration of the network architecture of VGG-19 model: conv means convolution, FC means fully connected\"/></a>"
      ],
      "metadata": {
        "id": "bG0ayIDCTVUA"
      }
    },
    {
      "cell_type": "code",
      "execution_count": 2,
      "metadata": {
        "id": "pvLGuemsS8Pp"
      },
      "outputs": [],
      "source": [
        "s_layers = ['block1_conv1',\n",
        "                'block2_conv1',\n",
        "                'block3_conv1',\n",
        "                'block4_conv1',\n",
        "                'block5_conv1']\n",
        "\n",
        "c_layers = ['block5_conv2']\n",
        "\n",
        "def get_model():\n",
        "  vgg = tf.keras.applications.vgg19.VGG19(include_top=False, weights='imagenet')\n",
        "  vgg.trainable = False\n",
        "\n",
        "  style_layers = [vgg.get_layer(name).output for name in s_layers]\n",
        "  content_layers = [vgg.get_layer(name).output for name in c_layers]\n",
        "\n",
        "  model_layers = style_layers + content_layers\n",
        "\n",
        "  model = models.Model(vgg.input, model_layers)\n",
        "\n",
        "  return model"
      ]
    },
    {
      "cell_type": "markdown",
      "source": [
        "<h2> Feature Differentiation </h2>\n",
        "content features -> features of old fence <br>\n",
        "style features   -> features of a forged fence"
      ],
      "metadata": {
        "id": "yINO2p2hTKsp"
      }
    },
    {
      "cell_type": "code",
      "source": [
        "def get_content_features(content, model):\n",
        "  content_output = model(content)\n",
        "  content_features = [layer[0] for layer in content_output[len(s_layers):]]\n",
        "  return content_features\n",
        "\n",
        "def get_style_features(style, model):\n",
        "  style_output = model(style)\n",
        "  style_features = [layer[0] for layer in style_output[:len(s_layers)]]\n",
        "  return style_features"
      ],
      "metadata": {
        "id": "YjeTRVMNUcAc"
      },
      "execution_count": null,
      "outputs": []
    }
  ]
}